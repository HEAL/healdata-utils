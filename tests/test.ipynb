{
 "cells": [
  {
   "cell_type": "code",
   "execution_count": null,
   "metadata": {},
   "outputs": [],
   "source": [
    "from healdata_utils.config import ROOT_DIR\n",
    "from healdata_utils.transforms.csvtemplate.conversion import convert_json_to_template_csv\n",
    " \n",
    "test = (ROOT_DIR/'data-dictionaries'/'stigma'/'output').glob('*.json')\n",
    "r = convert_json_to_template_csv(list(test)[-1])"
   ]
  },
  {
   "cell_type": "code",
   "execution_count": 1,
   "metadata": {},
   "outputs": [
    {
     "name": "stdout",
     "output_type": "stream",
     "text": [
      "Validating output json file.....\n"
     ]
    }
   ],
   "source": [
    "from healdata_utils.config import ROOT_DIR\n",
    "from healdata_utils.cli import to_json\n",
    " \n",
    "test = (ROOT_DIR/'data-dictionaries'/'stigma'/'input').glob('*.sav')\n",
    "out = ROOT_DIR/'data-dictionaries'/'stigma'/'test'\n",
    "to_json(list(test)[-1],out)"
   ]
  },
  {
   "cell_type": "code",
   "execution_count": 1,
   "metadata": {},
   "outputs": [],
   "source": [
    "from healdata_utils.config import ROOT_DIR\n",
    "from healdata_utils.cli import to_csv_from_json\n",
    "\n",
    "test = (ROOT_DIR/'data-dictionaries'/'stigma'/'output').glob('*.json')\n",
    "out = ROOT_DIR/'data-dictionaries'/'stigma'/'test'\n",
    "to_csv_from_json(list(test)[-1],out)"
   ]
  },
  {
   "cell_type": "code",
   "execution_count": null,
   "metadata": {},
   "outputs": [],
   "source": []
  }
 ],
 "metadata": {
  "kernelspec": {
   "display_name": "Python 3.10.2 ('venv': venv)",
   "language": "python",
   "name": "python3"
  },
  "language_info": {
   "codemirror_mode": {
    "name": "ipython",
    "version": 3
   },
   "file_extension": ".py",
   "mimetype": "text/x-python",
   "name": "python",
   "nbconvert_exporter": "python",
   "pygments_lexer": "ipython3",
   "version": "3.10.2"
  },
  "orig_nbformat": 4,
  "vscode": {
   "interpreter": {
    "hash": "ffe1f92715c8121f2c5ffe8d92a36c379792808cca601b0513df056abc4949bf"
   }
  }
 },
 "nbformat": 4,
 "nbformat_minor": 2
}
