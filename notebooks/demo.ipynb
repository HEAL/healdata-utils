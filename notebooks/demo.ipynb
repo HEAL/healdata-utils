{
 "cells": [
  {
   "cell_type": "code",
   "execution_count": 1,
   "metadata": {},
   "outputs": [],
   "source": [
    "from pathlib import Path \n",
    "from healdata_utils.cli import to_json,to_csv_from_json"
   ]
  },
  {
   "cell_type": "markdown",
   "metadata": {},
   "source": [
    "# jcoin to HEAL data dictionary"
   ]
  },
  {
   "cell_type": "code",
   "execution_count": null,
   "metadata": {},
   "outputs": [],
   "source": []
  },
  {
   "cell_type": "code",
   "execution_count": 2,
   "metadata": {},
   "outputs": [
    {
     "name": "stdout",
     "output_type": "stream",
     "text": [
      "Validating output json file.....\n"
     ]
    }
   ],
   "source": [
    "redcap_path = Path(\"../data-dictionaries/michigan/input/\"\n",
    "    \"HEALVariableLevelMet_2022-09-27_1447.REDCap.xml\")\n",
    "redcap_output = redcap_path.parent.with_name('output')\n",
    "\n",
    "to_json(redcap_path,redcap_output)\n",
    "to_csv_from_json(redcap_output/redcap_path.with_suffix(\".json\").name,redcap_output)"
   ]
  },
  {
   "cell_type": "code",
   "execution_count": 4,
   "metadata": {},
   "outputs": [
    {
     "name": "stdout",
     "output_type": "stream",
     "text": [
      "Error reading REDCap metadata file: ..\\data-dictionaries\\jcoin-legacy\\input\\JCOINCoreMeasures_2022-11-30_0945.REDCap.xml\n"
     ]
    },
    {
     "ename": "FileNotFoundError",
     "evalue": "[Errno 2] No such file or directory: '..\\\\data-dictionaries\\\\jcoin-legacy\\\\input\\\\JCOINCoreMeasures_2022-11-30_0945.REDCap.xml'",
     "output_type": "error",
     "traceback": [
      "\u001b[1;31m---------------------------------------------------------------------------\u001b[0m",
      "\u001b[1;31mFileNotFoundError\u001b[0m                         Traceback (most recent call last)",
      "Cell \u001b[1;32mIn [4], line 5\u001b[0m\n\u001b[0;32m      1\u001b[0m jcoin_path \u001b[39m=\u001b[39m Path(\u001b[39m\"\u001b[39m\u001b[39m../data-dictionaries/jcoin-legacy/input/\u001b[39m\u001b[39m\"\u001b[39m\n\u001b[0;32m      2\u001b[0m     \u001b[39m\"\u001b[39m\u001b[39mJCOINCoreMeasures_CDISC_ODM_2022-11-30_0945.xml\u001b[39m\u001b[39m\"\u001b[39m)\n\u001b[0;32m      3\u001b[0m jcoin_output \u001b[39m=\u001b[39m jcoin_path\u001b[39m.\u001b[39mparent\u001b[39m.\u001b[39mwith_name(\u001b[39m'\u001b[39m\u001b[39moutput\u001b[39m\u001b[39m'\u001b[39m)\n\u001b[1;32m----> 5\u001b[0m to_json(jcoin_path,jcoin_output)\n\u001b[0;32m      6\u001b[0m to_csv_from_json(jcoin_output\u001b[39m/\u001b[39mjcoin_path\u001b[39m.\u001b[39mwith_suffix(\u001b[39m\"\u001b[39m\u001b[39m.json\u001b[39m\u001b[39m\"\u001b[39m)\u001b[39m.\u001b[39mname,jcoin_output)\n",
      "File \u001b[1;32mc:\\users\\kranz-michael\\projects\\healdata-utils\\src\\healdata_utils\\cli.py:56\u001b[0m, in \u001b[0;36mto_json\u001b[1;34m(filepath, outputdir, data_dictionary_props, inputtype)\u001b[0m\n\u001b[0;32m     51\u001b[0m Path(outputdir)\u001b[39m.\u001b[39mmkdir(exist_ok\u001b[39m=\u001b[39m\u001b[39mTrue\u001b[39;00m)\n\u001b[0;32m     55\u001b[0m \u001b[39m# get data dictionary based on the input type\u001b[39;00m\n\u001b[1;32m---> 56\u001b[0m data_dictionary \u001b[39m=\u001b[39m choice_fxn[inputtype](filepath,data_dictionary_props)\n\u001b[0;32m     59\u001b[0m \u001b[39m# VALIDATE\u001b[39;00m\n\u001b[0;32m     60\u001b[0m \u001b[39mprint\u001b[39m(\u001b[39m'\u001b[39m\u001b[39mValidating output json file.....\u001b[39m\u001b[39m'\u001b[39m)\n",
      "File \u001b[1;32mc:\\users\\kranz-michael\\projects\\healdata-utils\\src\\healdata_utils\\transforms\\redcap\\conversion.py:65\u001b[0m, in \u001b[0;36mconvert_redcap\u001b[1;34m(path, data_dictionary_props)\u001b[0m\n\u001b[0;32m     63\u001b[0m \u001b[39mdef\u001b[39;00m \u001b[39mconvert_redcap\u001b[39m(path,data_dictionary_props\u001b[39m=\u001b[39m{}):\n\u001b[0;32m     64\u001b[0m     df \u001b[39m=\u001b[39m (\n\u001b[1;32m---> 65\u001b[0m         make_tabular_form_metadata(path)\n\u001b[0;32m     66\u001b[0m         \u001b[39m.\u001b[39mreset_index()\n\u001b[0;32m     67\u001b[0m         \u001b[39m.\u001b[39mrename(columns\u001b[39m=\u001b[39mrenamemap)\n\u001b[0;32m     68\u001b[0m         \u001b[39m.\u001b[39mreplace(recodemap)\n\u001b[0;32m     69\u001b[0m         [renamemap\u001b[39m.\u001b[39mvalues()]\n\u001b[0;32m     70\u001b[0m         \u001b[39m.\u001b[39mmerge(get_code_list(path),on\u001b[39m=\u001b[39m\u001b[39m'\u001b[39m\u001b[39mname\u001b[39m\u001b[39m'\u001b[39m,how\u001b[39m=\u001b[39m\u001b[39m'\u001b[39m\u001b[39mleft\u001b[39m\u001b[39m'\u001b[39m,validate\u001b[39m=\u001b[39m\u001b[39m\"\u001b[39m\u001b[39m1:1\u001b[39m\u001b[39m\"\u001b[39m)\n\u001b[0;32m     71\u001b[0m     )\n\u001b[0;32m     72\u001b[0m     df[\u001b[39m'\u001b[39m\u001b[39mdescription\u001b[39m\u001b[39m'\u001b[39m]\u001b[39m.\u001b[39mwhere(\n\u001b[0;32m     73\u001b[0m             df[\u001b[39m'\u001b[39m\u001b[39mchoice\u001b[39m\u001b[39m'\u001b[39m]\u001b[39m.\u001b[39misna(),\n\u001b[0;32m     74\u001b[0m             df[\u001b[39m'\u001b[39m\u001b[39mdescription\u001b[39m\u001b[39m'\u001b[39m]\u001b[39m+\u001b[39m\u001b[39m\"\u001b[39m\u001b[39m[\u001b[39m\u001b[39m\"\u001b[39m\u001b[39m+\u001b[39mdf[\u001b[39m'\u001b[39m\u001b[39mchoice\u001b[39m\u001b[39m'\u001b[39m]\u001b[39m+\u001b[39m\u001b[39m\"\u001b[39m\u001b[39m]\u001b[39m\u001b[39m\"\u001b[39m,\n\u001b[0;32m     75\u001b[0m             inplace\u001b[39m=\u001b[39m\u001b[39mTrue\u001b[39;00m\n\u001b[0;32m     76\u001b[0m         )\n\u001b[0;32m     77\u001b[0m     df\u001b[39m.\u001b[39mdescription\u001b[39m.\u001b[39mfillna(\u001b[39m'\u001b[39m\u001b[39mNo description\u001b[39m\u001b[39m'\u001b[39m,inplace\u001b[39m=\u001b[39m\u001b[39mTrue\u001b[39;00m)\n",
      "File \u001b[1;32mc:\\users\\kranz-michael\\projects\\healdata-utils\\src\\healdata_utils\\transforms\\redcap\\conversion.py:28\u001b[0m, in \u001b[0;36mmake_tabular_form_metadata\u001b[1;34m(path)\u001b[0m\n\u001b[0;32m     21\u001b[0m \u001b[39mdef\u001b[39;00m \u001b[39mtabulate_form\u001b[39m(form_name,form_object):\n\u001b[0;32m     22\u001b[0m     \u001b[39mreturn\u001b[39;00m (\n\u001b[0;32m     23\u001b[0m         pd\u001b[39m.\u001b[39mDataFrame([item\u001b[39m.\u001b[39m\u001b[39m__dict__\u001b[39m \u001b[39mfor\u001b[39;00m item \u001b[39min\u001b[39;00m form_object\u001b[39m.\u001b[39mitems])\n\u001b[0;32m     24\u001b[0m         \u001b[39m.\u001b[39massign(form\u001b[39m=\u001b[39mform_name)\n\u001b[0;32m     25\u001b[0m         \u001b[39m.\u001b[39mset_index([\u001b[39m'\u001b[39m\u001b[39mform\u001b[39m\u001b[39m'\u001b[39m,\u001b[39m'\u001b[39m\u001b[39moid\u001b[39m\u001b[39m'\u001b[39m])\n\u001b[0;32m     26\u001b[0m     )\n\u001b[1;32m---> 28\u001b[0m project \u001b[39m=\u001b[39m _make_redcap_project(path)\n\u001b[0;32m     29\u001b[0m tabular_form_list \u001b[39m=\u001b[39m [\n\u001b[0;32m     30\u001b[0m     tabulate_form(form_name,form_object) \n\u001b[0;32m     31\u001b[0m     \u001b[39mfor\u001b[39;00m form_name,form_object \u001b[39min\u001b[39;00m project\u001b[39m.\u001b[39mforms\u001b[39m.\u001b[39mitems()\n\u001b[0;32m     32\u001b[0m ]\n\u001b[0;32m     33\u001b[0m \u001b[39mreturn\u001b[39;00m pd\u001b[39m.\u001b[39mconcat(tabular_form_list)\n",
      "File \u001b[1;32mc:\\users\\kranz-michael\\projects\\healdata-utils\\src\\healdata_utils\\transforms\\redcap\\conversion.py:17\u001b[0m, in \u001b[0;36m_make_redcap_project\u001b[1;34m(path)\u001b[0m\n\u001b[0;32m     15\u001b[0m \u001b[39mdef\u001b[39;00m \u001b[39m_make_redcap_project\u001b[39m(path):\n\u001b[0;32m     16\u001b[0m     redcap_params \u001b[39m=\u001b[39m __parse_redcap_filename(path)\n\u001b[1;32m---> 17\u001b[0m     project \u001b[39m=\u001b[39m REDCapProject(\u001b[39m*\u001b[39m\u001b[39m*\u001b[39mredcap_params,input_type\u001b[39m=\u001b[39m\u001b[39m'\u001b[39m\u001b[39mmetadata\u001b[39m\u001b[39m'\u001b[39m)\n\u001b[0;32m     18\u001b[0m     \u001b[39mreturn\u001b[39;00m project\n",
      "File \u001b[1;32mc:\\users\\kranz-michael\\projects\\healdata-utils\\venv\\src\\dataforge\\src\\dataforge\\sources\\redcap\\project.py:45\u001b[0m, in \u001b[0;36mREDCapProject.__init__\u001b[1;34m(self, project_name, path, input_type)\u001b[0m\n\u001b[0;32m     43\u001b[0m \u001b[39mtry\u001b[39;00m:\n\u001b[0;32m     44\u001b[0m     metafile \u001b[39m=\u001b[39m Path(path)\u001b[39m/\u001b[39m\u001b[39mf\u001b[39m\u001b[39m'\u001b[39m\u001b[39m{\u001b[39;00mproject_name\u001b[39m}\u001b[39;00m\u001b[39m_\u001b[39m\u001b[39m{\u001b[39;00mlast_export\u001b[39m}\u001b[39;00m\u001b[39m.REDCap.xml\u001b[39m\u001b[39m'\u001b[39m\n\u001b[1;32m---> 45\u001b[0m     \u001b[39mwith\u001b[39;00m \u001b[39mopen\u001b[39;49m(metafile) \u001b[39mas\u001b[39;00m f:\n\u001b[0;32m     46\u001b[0m         metadata \u001b[39m=\u001b[39m schema\u001b[39m.\u001b[39mparse(f\u001b[39m.\u001b[39mread())\u001b[39m.\u001b[39mstudies[\u001b[39m0\u001b[39m]\n\u001b[0;32m     47\u001b[0m \u001b[39mexcept\u001b[39;00m \u001b[39mFileNotFoundError\u001b[39;00m:\n",
      "\u001b[1;31mFileNotFoundError\u001b[0m: [Errno 2] No such file or directory: '..\\\\data-dictionaries\\\\jcoin-legacy\\\\input\\\\JCOINCoreMeasures_2022-11-30_0945.REDCap.xml'"
     ]
    }
   ],
   "source": [
    "jcoin_path = Path(\"../data-dictionaries/jcoin-legacy/input/\"\n",
    "    \"JCOINCoreMeasures_2022-11-30_0945.REDCap.xml\")\n",
    "jcoin_output = jcoin_path.parent.with_name('output')\n",
    "\n",
    "to_json(jcoin_path,jcoin_output)\n",
    "to_csv_from_json(jcoin_output/jcoin_path.with_suffix(\".json\").name,jcoin_output)"
   ]
  }
 ],
 "metadata": {
  "kernelspec": {
   "display_name": "Python 3.10.2 ('venv': venv)",
   "language": "python",
   "name": "python3"
  },
  "language_info": {
   "codemirror_mode": {
    "name": "ipython",
    "version": 3
   },
   "file_extension": ".py",
   "mimetype": "text/x-python",
   "name": "python",
   "nbconvert_exporter": "python",
   "pygments_lexer": "ipython3",
   "version": "3.10.2"
  },
  "orig_nbformat": 4,
  "vscode": {
   "interpreter": {
    "hash": "ffe1f92715c8121f2c5ffe8d92a36c379792808cca601b0513df056abc4949bf"
   }
  }
 },
 "nbformat": 4,
 "nbformat_minor": 2
}
