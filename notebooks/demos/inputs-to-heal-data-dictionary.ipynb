{
 "cells": [
  {
   "attachments": {},
   "cell_type": "markdown",
   "metadata": {},
   "source": [
    "# Demonstration notebook of converting variety of input files to HEAL variable level metadata (ie data dictionary)\n",
    "This takes a specified input file and uses the healdatautils to export HEAL-formatted data dictionaries.\n",
    "The data dictionary titles are inferred from the file names. \n",
    "\n",
    "> Note, currently there are a few fields that do not have descriptions so return \n",
    "validation failure warnings. \n",
    "\n",
    "Will demonstrate two ways to create a data dictionary via the healdata-util `vlmd` tool.\n",
    "\n",
    "1. Via python\n",
    "2. Via command line"
   ]
  },
  {
   "cell_type": "markdown",
   "metadata": {},
   "source": [
    "## Via python"
   ]
  },
  {
   "cell_type": "code",
   "execution_count": 1,
   "metadata": {},
   "outputs": [],
   "source": [
    "from pathlib import Path \n",
    "from healdata_utils.cli import convert_to_vlmd\n",
    "import os \n",
    "import pandas as pd\n",
    "import json\n",
    "import shutil\n",
    "\n",
    "from healdata_utils.cli import input_descriptions\n",
    "from IPython.display import Markdown,display"
   ]
  },
  {
   "cell_type": "code",
   "execution_count": 2,
   "metadata": {},
   "outputs": [],
   "source": [
    "def printdir(dirname):\n",
    "    for d in Path(dirname).iterdir():\n",
    "        print(d)\n",
    "        if Path(d).is_dir():\n",
    "            for _d in Path(d).iterdir():\n",
    "                print(f\"   {_d}\")"
   ]
  },
  {
   "cell_type": "code",
   "execution_count": 12,
   "metadata": {},
   "outputs": [],
   "source": [
    "# current file paths for proof of concept\n",
    "demo_filepaths = {\n",
    "    # first 20 records of NMHSS SAMHDA Public Use File \n",
    "    \"sas7bdat\":\"data/example_nmhss_2019_first_20recs.sas7bdat\", \n",
    "    # SPSS/Stata examples created from pyreadstat via notebooks/demos/scripts/example.py\n",
    "    \"dta\":\"data/example_pyreadstat_output.dta\", \n",
    "    \"sav\":\"data/example_pyreadstat_output.sav\",\n",
    "    # The demostration CSV data dictionary exported from UChicago Redcap instance\n",
    "    \"redcap.csv\":\"data/example_redcap_demo.redcap.csv\",\n",
    "    # Valid csv version of pyreadstat \n",
    "    \"csv\":\"data/example_pyreadstat_output.csv\"\n",
    "}\n"
   ]
  },
  {
   "cell_type": "code",
   "execution_count": 4,
   "metadata": {},
   "outputs": [],
   "source": [
    "import pyreadstat\n",
    "df,meta = pyreadstat.read_dta(demo_files[\"dta\"],user_missing=True)"
   ]
  },
  {
   "cell_type": "code",
   "execution_count": 5,
   "metadata": {},
   "outputs": [
    {
     "data": {
      "text/markdown": [
       "Available inputs (except por):"
      ],
      "text/plain": [
       "<IPython.core.display.Markdown object>"
      ]
     },
     "metadata": {},
     "output_type": "display_data"
    },
    {
     "data": {
      "text/markdown": [
       "- csv\n",
       "- sav\n",
       "- dta\n",
       "- por\n",
       "- sas7bdat\n",
       "- json\n",
       "- redcap.csv\n"
      ],
      "text/plain": [
       "<IPython.core.display.Markdown object>"
      ]
     },
     "metadata": {},
     "output_type": "display_data"
    },
    {
     "data": {
      "text/markdown": [
       "Change the variable `input_type` to one of the extensions "
      ],
      "text/plain": [
       "<IPython.core.display.Markdown object>"
      ]
     },
     "metadata": {},
     "output_type": "display_data"
    }
   ],
   "source": [
    "# available inputs\n",
    "display(Markdown(\"Available inputs (except por and sas7bdat example does not have encodings/missing vals):\"))\n",
    "display(Markdown(\"\".join([\"- \"+ext+\"\\n\" for ext in list(input_descriptions.keys())])))\n",
    "display(Markdown(\"Change the variable `input_type` to one of the extensions \"))"
   ]
  },
  {
   "cell_type": "code",
   "execution_count": 11,
   "metadata": {},
   "outputs": [],
   "source": [
    "input_type = \"sas7bdat\""
   ]
  },
  {
   "attachments": {},
   "cell_type": "markdown",
   "metadata": {},
   "source": [
    "Description for selected input type below:"
   ]
  },
  {
   "cell_type": "code",
   "execution_count": 7,
   "metadata": {},
   "outputs": [
    {
     "data": {
      "text/markdown": [
       "Input type: **`sav`**"
      ],
      "text/plain": [
       "<IPython.core.display.Markdown object>"
      ]
     },
     "metadata": {},
     "output_type": "display_data"
    },
    {
     "data": {
      "text/markdown": [
       "Converts a \"metadata-rich\" (ie statistical software file) \n",
       "    into a HEAL-specified data dictionary in both csv format and json format.\n",
       "\n",
       "    This function relies on [readstat](https://github.com/Roche/pyreadstat) which supports SPSS (sav and por), \n",
       "    SAS (sas7bdat), and Stata (dta). \n",
       "\n",
       "    > Currently, this function uses both data and metadata to generate \n",
       "    a HEAL specified data dictionary. That is, types are inferred from the \n",
       "    data (so at least test or synthetic data needed) while everything else is taken \n",
       "    from the metadata (eg missing values, variable labels, variable value labels etc)\n",
       "\n",
       "    "
      ],
      "text/plain": [
       "<IPython.core.display.Markdown object>"
      ]
     },
     "metadata": {},
     "output_type": "display_data"
    }
   ],
   "source": [
    "display(Markdown(f\"Input type: **`{input_type}`**\"))\n",
    "display(Markdown((input_descriptions[input_type])))"
   ]
  },
  {
   "cell_type": "code",
   "execution_count": 8,
   "metadata": {},
   "outputs": [],
   "source": [
    "description = \"This is a proof of concept to demonstrate the healdata-utils functionality\"\n",
    "title = \"Healdata-utils Demonstration Data Dictionary\"\n",
    "healdir = \"output\""
   ]
  },
  {
   "cell_type": "code",
   "execution_count": 9,
   "metadata": {},
   "outputs": [],
   "source": [
    "# make python demo output\n",
    "Path(healdir).mkdir(exist_ok=True)"
   ]
  },
  {
   "cell_type": "code",
   "execution_count": 13,
   "metadata": {},
   "outputs": [
    {
     "name": "stdout",
     "output_type": "stream",
     "text": [
      "Validating csv data dictionary...\n",
      "Csv is VALID\n",
      "Validating heal-specified json fields.....\n",
      "JSON array of data dictionary fields is VALID\n"
     ]
    }
   ],
   "source": [
    "data_dictionaries = convert_to_vlmd(\n",
    "    filepath=demo_filepaths[input_type],\n",
    "    outputdir=healdir, #if not specified, will not write to file\n",
    "    inputtype=input_type, #if not specified, looks for suffix\n",
    "    data_dictionary_props={\n",
    "        \"name\":Path(inputpath).stem,\n",
    "        \"title\":title,\n",
    "        \"description\":description}\n",
    ")"
   ]
  },
  {
   "cell_type": "code",
   "execution_count": 39,
   "metadata": {},
   "outputs": [
    {
     "name": "stdout",
     "output_type": "stream",
     "text": [
      "output\\errors\n",
      "   output\\errors\\heal-csv-errors-summary.txt\n",
      "   output\\errors\\heal-csv-errors.json\n",
      "   output\\errors\\heal-json-errors.json\n",
      "output\\heal-csvtemplate-data-dictionary.csv\n",
      "output\\heal-jsontemplate-data-dictionary.json\n",
      "None\n"
     ]
    }
   ],
   "source": [
    "Markdown(\"Here is the resulting contents of the file directory:\")\n",
    "print(printdir(\"output\"))"
   ]
  },
  {
   "attachments": {},
   "cell_type": "markdown",
   "metadata": {},
   "source": [
    "Resulting CSV fields"
   ]
  },
  {
   "attachments": {},
   "cell_type": "markdown",
   "metadata": {},
   "source": [
    "Examine human-readable csv validation report. Say a data dictionary is not valid. The csv report summary will give these errors. If this is the case, you can edit the csv data dictionary and re-run `convert_vlmd` with the csv input type. For an example of this, see the csv validation demo notebook. In this notebook, all files are valid, so the summary will return a \n",
    "report indicating it is valid."
   ]
  },
  {
   "cell_type": "code",
   "execution_count": 40,
   "metadata": {},
   "outputs": [
    {
     "name": "stdout",
     "output_type": "stream",
     "text": [
      "\n",
      "# -----\n",
      "# valid: memory \n",
      "# -----\n",
      "\n",
      "## Summary \n",
      "\n",
      "+------------------------+-------------------+\n",
      "| Description            | Size/Name/Count   |\n",
      "+========================+===================+\n",
      "| File name (Not Found)  | memory            |\n",
      "+------------------------+-------------------+\n",
      "| File size              | N/A               |\n",
      "+------------------------+-------------------+\n",
      "| Total Time Taken (sec) | 0.02              |\n",
      "+------------------------+-------------------+\n",
      "\n",
      "\n"
     ]
    }
   ],
   "source": [
    "print(Path(\"output/errors/heal-csv-errors-summary.txt\").read_text())"
   ]
  },
  {
   "attachments": {},
   "cell_type": "markdown",
   "metadata": {},
   "source": [
    "You can view the data dictionary by looking via a pandas dataframe from the written file or directly from the returned\n",
    "data dictionary object. "
   ]
  },
  {
   "cell_type": "code",
   "execution_count": 41,
   "metadata": {},
   "outputs": [
    {
     "data": {
      "text/html": [
       "<div>\n",
       "<style scoped>\n",
       "    .dataframe tbody tr th:only-of-type {\n",
       "        vertical-align: middle;\n",
       "    }\n",
       "\n",
       "    .dataframe tbody tr th {\n",
       "        vertical-align: top;\n",
       "    }\n",
       "\n",
       "    .dataframe thead th {\n",
       "        text-align: right;\n",
       "    }\n",
       "</style>\n",
       "<table border=\"1\" class=\"dataframe\">\n",
       "  <thead>\n",
       "    <tr style=\"text-align: right;\">\n",
       "      <th></th>\n",
       "      <th>module</th>\n",
       "      <th>name</th>\n",
       "      <th>title</th>\n",
       "      <th>description</th>\n",
       "      <th>type</th>\n",
       "      <th>format</th>\n",
       "      <th>constraints.maxLength</th>\n",
       "      <th>constraints.enum</th>\n",
       "      <th>constraints.pattern</th>\n",
       "      <th>constraints.maximum</th>\n",
       "      <th>...</th>\n",
       "      <th>univar_stats.median</th>\n",
       "      <th>univar_stats.mean</th>\n",
       "      <th>univar_stats.std</th>\n",
       "      <th>univar_stats.min</th>\n",
       "      <th>univar_stats.max</th>\n",
       "      <th>univar_stats.mode</th>\n",
       "      <th>univar_stats.count</th>\n",
       "      <th>univar_stats.twenty_five_percentile</th>\n",
       "      <th>univar_stats.seventy_five_percentile</th>\n",
       "      <th>univar_stats.cat_marginals</th>\n",
       "    </tr>\n",
       "  </thead>\n",
       "  <tbody>\n",
       "    <tr>\n",
       "      <th>0</th>\n",
       "      <td></td>\n",
       "      <td>id</td>\n",
       "      <td></td>\n",
       "      <td>Unique identifier for participant</td>\n",
       "      <td>integer</td>\n",
       "      <td></td>\n",
       "      <td></td>\n",
       "      <td></td>\n",
       "      <td></td>\n",
       "      <td></td>\n",
       "      <td>...</td>\n",
       "      <td></td>\n",
       "      <td></td>\n",
       "      <td></td>\n",
       "      <td></td>\n",
       "      <td></td>\n",
       "      <td></td>\n",
       "      <td></td>\n",
       "      <td></td>\n",
       "      <td></td>\n",
       "      <td></td>\n",
       "    </tr>\n",
       "    <tr>\n",
       "      <th>1</th>\n",
       "      <td></td>\n",
       "      <td>visit_dt</td>\n",
       "      <td></td>\n",
       "      <td>Date of the interview</td>\n",
       "      <td>datetime</td>\n",
       "      <td></td>\n",
       "      <td></td>\n",
       "      <td></td>\n",
       "      <td></td>\n",
       "      <td></td>\n",
       "      <td>...</td>\n",
       "      <td></td>\n",
       "      <td></td>\n",
       "      <td></td>\n",
       "      <td></td>\n",
       "      <td></td>\n",
       "      <td></td>\n",
       "      <td></td>\n",
       "      <td></td>\n",
       "      <td></td>\n",
       "      <td></td>\n",
       "    </tr>\n",
       "    <tr>\n",
       "      <th>2</th>\n",
       "      <td></td>\n",
       "      <td>sex_at_birth</td>\n",
       "      <td></td>\n",
       "      <td>The self-reported sex of the participant/subje...</td>\n",
       "      <td>integer</td>\n",
       "      <td></td>\n",
       "      <td></td>\n",
       "      <td>1|2|3|4|b|a</td>\n",
       "      <td></td>\n",
       "      <td></td>\n",
       "      <td>...</td>\n",
       "      <td></td>\n",
       "      <td></td>\n",
       "      <td></td>\n",
       "      <td></td>\n",
       "      <td></td>\n",
       "      <td></td>\n",
       "      <td></td>\n",
       "      <td></td>\n",
       "      <td></td>\n",
       "      <td></td>\n",
       "    </tr>\n",
       "    <tr>\n",
       "      <th>3</th>\n",
       "      <td></td>\n",
       "      <td>race</td>\n",
       "      <td></td>\n",
       "      <td>Self-reported race</td>\n",
       "      <td>integer</td>\n",
       "      <td></td>\n",
       "      <td></td>\n",
       "      <td>1|2|3|4|5|6|7|8|b|a</td>\n",
       "      <td></td>\n",
       "      <td></td>\n",
       "      <td>...</td>\n",
       "      <td></td>\n",
       "      <td></td>\n",
       "      <td></td>\n",
       "      <td></td>\n",
       "      <td></td>\n",
       "      <td></td>\n",
       "      <td></td>\n",
       "      <td></td>\n",
       "      <td></td>\n",
       "      <td></td>\n",
       "    </tr>\n",
       "    <tr>\n",
       "      <th>4</th>\n",
       "      <td></td>\n",
       "      <td>hispanic_ethnicity</td>\n",
       "      <td></td>\n",
       "      <td>Are you of Hispanic, Latino, or Spanish origin?</td>\n",
       "      <td>integer</td>\n",
       "      <td></td>\n",
       "      <td></td>\n",
       "      <td>0|1|a|b</td>\n",
       "      <td></td>\n",
       "      <td></td>\n",
       "      <td>...</td>\n",
       "      <td></td>\n",
       "      <td></td>\n",
       "      <td></td>\n",
       "      <td></td>\n",
       "      <td></td>\n",
       "      <td></td>\n",
       "      <td></td>\n",
       "      <td></td>\n",
       "      <td></td>\n",
       "      <td></td>\n",
       "    </tr>\n",
       "  </tbody>\n",
       "</table>\n",
       "<p>5 rows × 28 columns</p>\n",
       "</div>"
      ],
      "text/plain": [
       "  module                name title  \\\n",
       "0                         id         \n",
       "1                   visit_dt         \n",
       "2               sex_at_birth         \n",
       "3                       race         \n",
       "4         hispanic_ethnicity         \n",
       "\n",
       "                                         description      type format  \\\n",
       "0                  Unique identifier for participant   integer          \n",
       "1                              Date of the interview  datetime          \n",
       "2  The self-reported sex of the participant/subje...   integer          \n",
       "3                                 Self-reported race   integer          \n",
       "4    Are you of Hispanic, Latino, or Spanish origin?   integer          \n",
       "\n",
       "  constraints.maxLength     constraints.enum constraints.pattern  \\\n",
       "0                                                                  \n",
       "1                                                                  \n",
       "2                                1|2|3|4|b|a                       \n",
       "3                        1|2|3|4|5|6|7|8|b|a                       \n",
       "4                                    0|1|a|b                       \n",
       "\n",
       "  constraints.maximum  ... univar_stats.median univar_stats.mean  \\\n",
       "0                      ...                                         \n",
       "1                      ...                                         \n",
       "2                      ...                                         \n",
       "3                      ...                                         \n",
       "4                      ...                                         \n",
       "\n",
       "  univar_stats.std univar_stats.min univar_stats.max univar_stats.mode  \\\n",
       "0                                                                        \n",
       "1                                                                        \n",
       "2                                                                        \n",
       "3                                                                        \n",
       "4                                                                        \n",
       "\n",
       "  univar_stats.count univar_stats.twenty_five_percentile  \\\n",
       "0                                                          \n",
       "1                                                          \n",
       "2                                                          \n",
       "3                                                          \n",
       "4                                                          \n",
       "\n",
       "  univar_stats.seventy_five_percentile univar_stats.cat_marginals  \n",
       "0                                                                  \n",
       "1                                                                  \n",
       "2                                                                  \n",
       "3                                                                  \n",
       "4                                                                  \n",
       "\n",
       "[5 rows x 28 columns]"
      ]
     },
     "execution_count": 41,
     "metadata": {},
     "output_type": "execute_result"
    }
   ],
   "source": [
    "pd.DataFrame(data_dictionaries['csvtemplate']).head()"
   ]
  },
  {
   "attachments": {},
   "cell_type": "markdown",
   "metadata": {},
   "source": [
    "Resulting JSON object \n",
    "\n",
    "> Note how currently the fields are nested within the data_dictionary property) as opposed to the csv tempalte which just has fields."
   ]
  },
  {
   "cell_type": "code",
   "execution_count": 42,
   "metadata": {},
   "outputs": [
    {
     "name": "stdout",
     "output_type": "stream",
     "text": [
      "{\n",
      "    \"name\": \"example_pyreadstat_output\",\n",
      "    \"title\": \"Healdata-utils Demonstration Data Dictionary\",\n",
      "    \"description\": \"This is a proof of concept to demonstrate the healdata-utils functionality\",\n",
      "    \"data_dictionary\": {\n",
      "        \"name\": \"example_pyreadstat_output\",\n",
      "        \"title\": \"Healdata-utils Demonstration Data Dictionary\",\n",
      "        \"description\": \"This is a proof of concept to demonstrate the healdata-utils functionality\",\n",
      "        \"data_dictionary\": [\n",
      "            {\n",
      "                \"name\": \"id\",\n",
      "                \"type\": \"integer\",\n",
      "                \"description\": \"Unique identifier for participant\"\n",
      "            },\n",
      "            {\n",
      "                \"name\": \"visit_dt\",\n",
      "                \"type\": \"datetime\",\n",
      "                \"description\": \"Date of the interview\"\n",
      "            },\n",
      "            {\n",
      "                \"name\": \"sex_at_birth\",\n",
      "                \"type\": \"integer\",\n",
      "                \"encodings\": {\n",
      "                    \"1\": \"Male\",\n",
      "                    \"2\": \"Female\",\n",
      "                    \"3\": \"Int\n"
     ]
    }
   ],
   "source": [
    "print(json.dumps(data_dictionaries['jsontemplate'],indent=4)[0:1000])"
   ]
  },
  {
   "attachments": {},
   "cell_type": "markdown",
   "metadata": {},
   "source": [
    "## Via command line"
   ]
  },
  {
   "attachments": {},
   "cell_type": "markdown",
   "metadata": {},
   "source": [
    "We will demonstrate the `vlmd` command line utility using one of the data dictionaries. "
   ]
  },
  {
   "cell_type": "code",
   "execution_count": 43,
   "metadata": {},
   "outputs": [],
   "source": [
    "# make a separate output-cli folder for cli demo\n",
    "\n",
    "Path(\"output-cli\").mkdir(exist_ok=True)"
   ]
  },
  {
   "cell_type": "code",
   "execution_count": 44,
   "metadata": {
    "vscode": {
     "languageId": "shellscript"
    }
   },
   "outputs": [
    {
     "name": "stdout",
     "output_type": "stream",
     "text": [
      "Usage: vlmd [OPTIONS]\n",
      "\n",
      "Options:\n",
      "  --filepath TEXT                 Path to the file you want to convert to a\n",
      "                                  HEAL data dictionary  [required]\n",
      "  --title TEXT                    The title of your data dictionary. If not\n",
      "                                  specified, then the file name will be used\n",
      "  --description TEXT              Description of data dictionary\n",
      "  --inputtype [csv|sav|dta|por|sas7bdat|json|redcap.csv]\n",
      "                                  The type of your input file.\n",
      "  --outputdir TEXT                The folder where you want to output your\n",
      "                                  HEAL data dictionary\n",
      "  --help                          Show this message and exit.\n"
     ]
    }
   ],
   "source": [
    "!vlmd --help"
   ]
  },
  {
   "cell_type": "markdown",
   "metadata": {},
   "source": [
    "To create the above data dictionary via the command line, run directly in this notebook with the cell below:"
   ]
  },
  {
   "cell_type": "code",
   "execution_count": 28,
   "metadata": {
    "vscode": {
     "languageId": "shellscript"
    }
   },
   "outputs": [
    {
     "name": "stdout",
     "output_type": "stream",
     "text": [
      "Validating csv data dictionary...\n",
      "Csv is VALID\n",
      "Validating heal-specified json fields.....\n",
      "JSON array of data dictionary fields is VALID\n"
     ]
    }
   ],
   "source": [
    "!vlmd --filepath \"data/example_pyreadstat_output.sav\" \\\n",
    "--outputdir \"output-cli\" \\\n",
    "--title \"Healdata-utils Demonstration Data Dictionary\" \\\n",
    "--description \"This is a proof of concept to demonstrate the healdata-utils functionality\" "
   ]
  },
  {
   "cell_type": "code",
   "execution_count": 29,
   "metadata": {},
   "outputs": [
    {
     "name": "stdout",
     "output_type": "stream",
     "text": [
      "output-cli\\errors\n",
      "   output-cli\\errors\\heal-csv-errors-summary.txt\n",
      "   output-cli\\errors\\heal-csv-errors.json\n",
      "   output-cli\\errors\\heal-json-errors.json\n",
      "output-cli\\heal-csvtemplate-data-dictionary.csv\n",
      "output-cli\\heal-jsontemplate-data-dictionary.json\n"
     ]
    }
   ],
   "source": [
    "printdir(\"output-cli\")"
   ]
  }
 ],
 "metadata": {
  "kernelspec": {
   "display_name": "Python 3.10.2 ('venv': venv)",
   "language": "python",
   "name": "python3"
  },
  "language_info": {
   "codemirror_mode": {
    "name": "ipython",
    "version": 3
   },
   "file_extension": ".py",
   "mimetype": "text/x-python",
   "name": "python",
   "nbconvert_exporter": "python",
   "pygments_lexer": "ipython3",
   "version": "3.10.5"
  },
  "orig_nbformat": 4,
  "vscode": {
   "interpreter": {
    "hash": "ffe1f92715c8121f2c5ffe8d92a36c379792808cca601b0513df056abc4949bf"
   }
  }
 },
 "nbformat": 4,
 "nbformat_minor": 2
}
