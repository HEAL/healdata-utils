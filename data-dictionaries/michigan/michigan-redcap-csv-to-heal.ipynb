{
 "cells": [
  {
   "attachments": {},
   "cell_type": "markdown",
   "metadata": {},
   "source": [
    "# REDCAP data dictionary to HEAL dd\n",
    "This takes a REDCAP CSV and uses the healdatautils to export HEAL-formatted data dictionary \n",
    "\n",
    "Will demonstrate two ways to create a data dictionary via the healdata-util `vlmd` tool.\n",
    "\n",
    "1. Via python\n",
    "2. Via command line"
   ]
  },
  {
   "attachments": {},
   "cell_type": "markdown",
   "metadata": {},
   "source": [
    "## Set up (as of 2/13/2023)\n",
    "After activating your virtual environment (recommended):\n",
    "```bash\n",
    "pip install healdata_utils @ git+https://github.com/norc-heal/healdata-utils\n",
    "```"
   ]
  },
  {
   "attachments": {},
   "cell_type": "markdown",
   "metadata": {},
   "source": [
    "## Via python"
   ]
  },
  {
   "cell_type": "code",
   "execution_count": 2,
   "metadata": {},
   "outputs": [],
   "source": [
    "from pathlib import Path \n",
    "from healdata_utils.cli import to_json,to_csv_from_json\n",
    "import os "
   ]
  },
  {
   "cell_type": "code",
   "execution_count": 3,
   "metadata": {},
   "outputs": [
    {
     "name": "stdout",
     "output_type": "stream",
     "text": [
      "Help on function to_json in module healdata_utils.cli:\n",
      "\n",
      "to_json(filepath, outputdir, data_dictionary_props={}, inputtype=None)\n",
      "\n"
     ]
    }
   ],
   "source": [
    "help(to_json)"
   ]
  },
  {
   "cell_type": "code",
   "execution_count": 4,
   "metadata": {},
   "outputs": [
    {
     "name": "stdout",
     "output_type": "stream",
     "text": [
      "Help on function to_csv_from_json in module healdata_utils.cli:\n",
      "\n",
      "to_csv_from_json(filepath, outputdir)\n",
      "    converts a json file to a csv\n",
      "    \n",
      "    Parameters\n",
      "    ---------------\n",
      "    filepath: path to input file \n",
      "    outputdir: path to a directory where output will go. \n",
      "        If a directory is specified, will use the input name for output name replaced with json suffix.\n",
      "    \n",
      "    Returns\n",
      "    --------------\n",
      "    None\n",
      "\n"
     ]
    }
   ],
   "source": [
    "help(to_csv_from_json)"
   ]
  },
  {
   "cell_type": "code",
   "execution_count": 5,
   "metadata": {},
   "outputs": [],
   "source": [
    "inputpaths = [\n",
    "    Path(\"input/Chronic Michigan Body Map REDCap Dictionary.csv\"),\n",
    "    Path(\"input/Recent_Acute Michigan Body Map REDCap Data Dictionary.csv\")\n",
    "]\n",
    "\n",
    "titles = [\"Michigan Body Map of Chronic Pain\",\n",
    "    \"Michigan Body Map of Recent Acute Pain\"]\n",
    "\n",
    "# NOTE: could add descriptions for each data dictionary as well but \n",
    "# not required"
   ]
  },
  {
   "cell_type": "code",
   "execution_count": 13,
   "metadata": {},
   "outputs": [
    {
     "name": "stdout",
     "output_type": "stream",
     "text": [
      "Validating output json file.....\n",
      "Validating output json file.....\n"
     ]
    }
   ],
   "source": [
    "for i,path in enumerate(inputpaths):\n",
    "    \n",
    "    inputpath = path\n",
    "    healdir = path.parent.with_name('output')\n",
    "    healjson = healdir/inputpath.name.replace(\".csv\",\".json\") \n",
    "    healcsv = healdir/inputpath.name\n",
    "\n",
    "    to_json(\n",
    "        filepath=inputpath,\n",
    "        outputdir=healdir,\n",
    "        inputtype=\"redcap.csv\", #if not specified, looks for suffix\n",
    "        data_dictionary_props={\"title\":titles[i]}\n",
    "    )\n",
    "    to_csv_from_json(healjson,healcsv)"
   ]
  },
  {
   "attachments": {},
   "cell_type": "markdown",
   "metadata": {},
   "source": [
    "## Via command line"
   ]
  },
  {
   "attachments": {},
   "cell_type": "markdown",
   "metadata": {},
   "source": [
    "We will demonstrate the `vlmd` command line utility using one of the data dictionaries."
   ]
  },
  {
   "cell_type": "code",
   "execution_count": 6,
   "metadata": {
    "vscode": {
     "languageId": "shellscript"
    }
   },
   "outputs": [
    {
     "name": "stdout",
     "output_type": "stream",
     "text": [
      "Usage: vlmd [OPTIONS]\n",
      "\n",
      "  write a data dictioanry (ie variable level metadata) to a HEAL metadata json\n",
      "  file\n",
      "\n",
      "Options:\n",
      "  --filepath TEXT                 Path to the file you want to convert to a\n",
      "                                  HEAL data dictionary  [required]\n",
      "  --title TEXT                    The title of your data dictionary. If not\n",
      "                                  specified, then the file name will be used\n",
      "  --description TEXT              Description of data dictionary\n",
      "  --inputtype [csv|sav|dta|por|sas7bdat|json|redcap.xml|redcap.csv]\n",
      "                                  The type of your input file.\n",
      "  --outputdir TEXT                The folder where you want to output your\n",
      "                                  HEAL data dictionary\n",
      "  --help                          Show this message and exit.\n"
     ]
    }
   ],
   "source": [
    "!vlmd --help"
   ]
  },
  {
   "attachments": {},
   "cell_type": "markdown",
   "metadata": {},
   "source": [
    "Can use the following command in the command line to create the above data dictionary:\n",
    "\n",
    "\n",
    "```bash\n",
    "vlmd --filepath \"input/Chronic Michigan Body Map REDCap Dictionary.csv\" \\\n",
    "--inputtype redcap.csv \\\n",
    "--outputdir \"output/chronic-pain-body-map.json\" \\\n",
    "--title \"Chronic Michigan Body Map\" \\\n",
    "--description \"This data dictionary is for demostration purposes only.\\\n",
    "The data dictionary is generated from the chronic michigan body map \\\n",
    "exported redcap csv data dictionary and mapped to the heal variable \\\n",
    "variable level metadata.\"\n",
    "```"
   ]
  },
  {
   "attachments": {},
   "cell_type": "markdown",
   "metadata": {},
   "source": [
    "To run directly in this notebook through command line, run cell below:"
   ]
  },
  {
   "cell_type": "code",
   "execution_count": 11,
   "metadata": {
    "vscode": {
     "languageId": "shellscript"
    }
   },
   "outputs": [
    {
     "name": "stdout",
     "output_type": "stream",
     "text": [
      "Validating output json file.....\n"
     ]
    }
   ],
   "source": [
    "!vlmd --filepath \"input/Chronic Michigan Body Map REDCap Dictionary.csv\" \\\n",
    "--inputtype redcap.csv \\\n",
    "--outputdir \"output/chronic-pain-body-map.json\" \\\n",
    "--title \"Chronic Michigan Body Map\" \\\n",
    "--description \"This data dictionary is for demostration purposes only.\\\n",
    "The data dictionary is generated from the chronic michigan body map \\\n",
    "exported redcap csv data dictionary and mapped to the heal variable \\\n",
    "variable level metadata.\""
   ]
  }
 ],
 "metadata": {
  "kernelspec": {
   "display_name": "Python 3.10.2 ('venv': venv)",
   "language": "python",
   "name": "python3"
  },
  "language_info": {
   "codemirror_mode": {
    "name": "ipython",
    "version": 3
   },
   "file_extension": ".py",
   "mimetype": "text/x-python",
   "name": "python",
   "nbconvert_exporter": "python",
   "pygments_lexer": "ipython3",
   "version": "3.10.2"
  },
  "orig_nbformat": 4,
  "vscode": {
   "interpreter": {
    "hash": "ffe1f92715c8121f2c5ffe8d92a36c379792808cca601b0513df056abc4949bf"
   }
  }
 },
 "nbformat": 4,
 "nbformat_minor": 2
}
